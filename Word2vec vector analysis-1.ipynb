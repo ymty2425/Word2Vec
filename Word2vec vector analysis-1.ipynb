{
 "cells": [
  {
   "cell_type": "markdown",
   "metadata": {},
   "source": [
    "# SI630 Homework 2: Word2vec Vector Analysis\n",
    "\n",
    "*Important Note:* Start this notebook only after you've gotten your word2vec model up and running!\n",
    "\n",
    "Many NLP packages support working with word embeddings. In this notebook you can work through the various problems assigned in Task 3. We've provided the basic functionality for loading word vectors using [Gensim](https://radimrehurek.com/gensim/models/keyedvectors.html), a good library for learning and using word vectors, and for working with the vectors. \n",
    "\n",
    "One of the fun parts of word vectors is getting a sense of what they learned. Feel free to explore the vectors here! "
   ]
  },
  {
   "cell_type": "code",
   "execution_count": 1,
   "metadata": {},
   "outputs": [],
   "source": [
    "from gensim.models import KeyedVectors\n",
    "from gensim.test.utils import datapath"
   ]
  },
  {
   "cell_type": "code",
   "execution_count": 2,
   "metadata": {},
   "outputs": [],
   "source": [
    "word_vectors = KeyedVectors.load_word2vec_format('word2vec.kv', binary=False)"
   ]
  },
  {
   "cell_type": "code",
   "execution_count": 4,
   "metadata": {},
   "outputs": [
    {
     "data": {
      "text/plain": [
       "[('novels', 0.8401198983192444),\n",
       " ('trilogies', 0.8302552103996277),\n",
       " ('volumes', 0.7945647239685059),\n",
       " ('offerings', 0.7857593297958374),\n",
       " ('comics', 0.7842567563056946),\n",
       " ('biographies', 0.782633900642395),\n",
       " ('novellas', 0.7824888229370117),\n",
       " (\"lamb's\", 0.7815375328063965),\n",
       " ('anthologies', 0.7699565887451172),\n",
       " ('westerns', 0.7669244408607483)]"
      ]
     },
     "execution_count": 4,
     "metadata": {},
     "output_type": "execute_result"
    }
   ],
   "source": [
    "word_vectors.similar_by_word(\"books\")"
   ]
  },
  {
   "cell_type": "code",
   "execution_count": 10,
   "metadata": {},
   "outputs": [
    {
     "name": "stdout",
     "output_type": "stream",
     "text": [
      "school: college, freshman, schoolers, junior, schooler, grad, med, elementary, sophomore, preschool\n",
      "ponder: bureaucrats, dint, westerners, immaterial, motivates, rationally, encouraged, comforting, deem, heretofore\n",
      "positive: negative, favorable, constructive, encouraged, ponder, glowing, raving, positively, honest, unbiased\n",
      "banana: pudding, beef, caramel, blackberry, stroganoff, chips, roast, cookies, chair, advent\n",
      "entrepreneur: adventurers, adoptees, swimmer, pioneers, doting, pathologist, befriends, senators, wizardry, gymnast\n",
      "enthusiasm: trajectory, transformative, affirmative, underpinnings, flare, candor, ebb, soul-searching, motivation, manifestations\n",
      "facilitate: broaden, solidify, hypnosis, counseling, maximize, strict, memorization, guiding, mindfulness, retain\n",
      "hierarchy: commanders, semitic, degradation, flavored, perpetrators, belittles, drawl, upheavals, statesman, starvation\n",
      "illusion: permit, situated, sting, culprits, minimizing, befall, migraines, perpetrators, fabrications, glorification\n",
      "narcissism: behaviour, frailty, inferences, expression, limitations, semantics, landmarks, blasting, principle, demeanor\n"
     ]
    }
   ],
   "source": [
    "target_words = [\"school\", \"ponder\", \"positive\", \"banana\", \"entrepreneur\",\n",
    "                \"enthusiasm\", \"facilitate\", \"hierarchy\", \"illusion\", \"narcissism\"]\n",
    "\n",
    "for word in target_words:\n",
    "    print(word + \": \" + \", \".join([w[0] for w in word_vectors.most_similar(word)]))"
   ]
  },
  {
   "cell_type": "code",
   "execution_count": 11,
   "metadata": {},
   "outputs": [],
   "source": [
    "def get_analogy(a, b, c):\n",
    "    return word_vectors.most_similar(positive=[b, c], negative=[a])[0][0]"
   ]
  },
  {
   "cell_type": "code",
   "execution_count": 16,
   "metadata": {},
   "outputs": [
    {
     "data": {
      "text/plain": [
       "'practitioner'"
      ]
     },
     "execution_count": 16,
     "metadata": {},
     "output_type": "execute_result"
    }
   ],
   "source": [
    "get_analogy('team', 'profession', 'soccer')"
   ]
  },
  {
   "cell_type": "code",
   "execution_count": 32,
   "metadata": {},
   "outputs": [
    {
     "data": {
      "text/plain": [
       "'depressed'"
      ]
     },
     "execution_count": 32,
     "metadata": {},
     "output_type": "execute_result"
    }
   ],
   "source": [
    "get_analogy('color', 'feeling', 'blue')"
   ]
  },
  {
   "cell_type": "code",
   "execution_count": 37,
   "metadata": {},
   "outputs": [
    {
     "data": {
      "text/plain": [
       "'combo'"
      ]
     },
     "execution_count": 37,
     "metadata": {},
     "output_type": "execute_result"
    }
   ],
   "source": [
    "get_analogy('drink', 'food', 'coffee')"
   ]
  },
  {
   "cell_type": "code",
   "execution_count": 51,
   "metadata": {},
   "outputs": [
    {
     "data": {
      "text/plain": [
       "'scandal'"
      ]
     },
     "execution_count": 51,
     "metadata": {},
     "output_type": "execute_result"
    }
   ],
   "source": [
    "get_analogy('justice', 'court', 'lawyer')"
   ]
  },
  {
   "cell_type": "code",
   "execution_count": 54,
   "metadata": {},
   "outputs": [
    {
     "data": {
      "text/plain": [
       "\"artist's\""
      ]
     },
     "execution_count": 54,
     "metadata": {},
     "output_type": "execute_result"
    }
   ],
   "source": [
    "get_analogy('soft', 'art', 'paint')"
   ]
  },
  {
   "cell_type": "code",
   "execution_count": 56,
   "metadata": {},
   "outputs": [
    {
     "data": {
      "text/plain": [
       "'naturalist'"
      ]
     },
     "execution_count": 56,
     "metadata": {},
     "output_type": "execute_result"
    }
   ],
   "source": [
    "get_analogy('hitler', 'dictator', 'trump')"
   ]
  },
  {
   "cell_type": "markdown",
   "metadata": {},
   "source": [
    "- soccer - team + profession = practitioner: \n",
    "The analogy could suggest that someone who plays soccer professionally could be thought of as a practitioner of the sport.\n",
    "\n",
    "- blue - color + feeling = depressed:\n",
    "I guess the analogy suggests that the feeling of being \"blue\" is equivalent to feeling \"depressed.\" That makes sense to me.\n",
    "\n",
    "- coffee - drink + food = combo:\n",
    "This analogy may work in the context of fast food or restaurant combos, where a combination meal typically includes a main dish, side dish, and drink.\n",
    "\n",
    "- lawyer - justice + court = scandal:\n",
    "This word analogy doesn't seem to hold a valid logical connection. While \"lawyer\" is associated with \"justice\", and subtracting \"justice\" could suggest a different element related to the law profession, adding \"court\" doesn't seem to logically lead to \"scandal\". \n",
    "\n",
    "- paint - soft + art = artisit's: \n",
    "This word analogy seems to be valid and makes sense in the context of the English language. \"Paint\" is typically associated with \"art\", and subtracting \"soft\" could suggest a different quality related to painting or art in general. Adding \"artist's\" seems to be a valid completion of the analogy, as it connects the idea of art with the idea of someone who creates it."
   ]
  }
 ],
 "metadata": {
  "kernelspec": {
   "display_name": "Python 3.9.6 ('si-618')",
   "language": "python",
   "name": "python3"
  },
  "language_info": {
   "codemirror_mode": {
    "name": "ipython",
    "version": 3
   },
   "file_extension": ".py",
   "mimetype": "text/x-python",
   "name": "python",
   "nbconvert_exporter": "python",
   "pygments_lexer": "ipython3",
   "version": "3.9.6"
  },
  "vscode": {
   "interpreter": {
    "hash": "889bf1191c6ffd10a09fdd786173af3c24c00e9cd6ef1bec4a595cd303e85b1c"
   }
  }
 },
 "nbformat": 4,
 "nbformat_minor": 2
}
